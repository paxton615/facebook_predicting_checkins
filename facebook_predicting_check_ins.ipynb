{
 "cells": [
  {
   "cell_type": "markdown",
   "metadata": {},
   "source": [
    "import pandas as pd\n",
    "import numpy as np\n",
    "#!ls /Users/paxton615/Downloads/facebook-v-predicting-check-ins/ \n",
    "df = pd.read_csv('/Users/paxton615/Downloads/facebook-v-predicting-check-ins/train.csv')"
   ]
  },
  {
   "cell_type": "code",
   "execution_count": null,
   "metadata": {},
   "outputs": [],
   "source": [
    "#!ls /Users/paxton615/Downloads/facebook-v-predicting-check-ins/ \n"
   ]
  },
  {
   "cell_type": "code",
   "execution_count": null,
   "metadata": {},
   "outputs": [],
   "source": [
    "df = pd.read_csv('/Users/paxton615/Downloads/facebook-v-predicting-check-ins/train.csv')"
   ]
  },
  {
   "cell_type": "markdown",
   "metadata": {},
   "source": [
    "#### In order to go through the whole process asap:\n",
    "#### 1. choose data from 2<x<2.5,  1<y<1.5\n",
    "#### 2. save the subset in a new csv"
   ]
  },
  {
   "cell_type": "markdown",
   "metadata": {},
   "source": [
    "data = df.query(\"2<x & x<2.5 & 1<y &y<1.5\")\n",
    "data.to_csv('/Users/paxton615/Github_Personal/facebook_predicting_checkins/facebook80000.csv',index=False)"
   ]
  },
  {
   "cell_type": "markdown",
   "metadata": {},
   "source": [
    "  \n",
    "  "
   ]
  },
  {
   "cell_type": "code",
   "execution_count": 1,
   "metadata": {},
   "outputs": [],
   "source": [
    "import pandas as pd\n",
    "import numpy as np"
   ]
  },
  {
   "cell_type": "code",
   "execution_count": 2,
   "metadata": {},
   "outputs": [
    {
     "data": {
      "text/plain": [
       "(83197, 6)"
      ]
     },
     "execution_count": 2,
     "metadata": {},
     "output_type": "execute_result"
    }
   ],
   "source": [
    "data=pd.read_csv('/Users/paxton615/Github_Personal/facebook_predicting_checkins/facebook80000.csv')\n",
    "data.shape"
   ]
  },
  {
   "cell_type": "code",
   "execution_count": 3,
   "metadata": {},
   "outputs": [
    {
     "data": {
      "text/html": [
       "<div>\n",
       "<style scoped>\n",
       "    .dataframe tbody tr th:only-of-type {\n",
       "        vertical-align: middle;\n",
       "    }\n",
       "\n",
       "    .dataframe tbody tr th {\n",
       "        vertical-align: top;\n",
       "    }\n",
       "\n",
       "    .dataframe thead th {\n",
       "        text-align: right;\n",
       "    }\n",
       "</style>\n",
       "<table border=\"1\" class=\"dataframe\">\n",
       "  <thead>\n",
       "    <tr style=\"text-align: right;\">\n",
       "      <th></th>\n",
       "      <th>row_id</th>\n",
       "      <th>x</th>\n",
       "      <th>y</th>\n",
       "      <th>accuracy</th>\n",
       "      <th>time</th>\n",
       "      <th>place_id</th>\n",
       "    </tr>\n",
       "  </thead>\n",
       "  <tbody>\n",
       "    <tr>\n",
       "      <th>0</th>\n",
       "      <td>112</td>\n",
       "      <td>2.2360</td>\n",
       "      <td>1.3655</td>\n",
       "      <td>66</td>\n",
       "      <td>623174</td>\n",
       "      <td>7663031065</td>\n",
       "    </tr>\n",
       "    <tr>\n",
       "      <th>1</th>\n",
       "      <td>180</td>\n",
       "      <td>2.2003</td>\n",
       "      <td>1.2541</td>\n",
       "      <td>65</td>\n",
       "      <td>610195</td>\n",
       "      <td>2358558474</td>\n",
       "    </tr>\n",
       "    <tr>\n",
       "      <th>2</th>\n",
       "      <td>367</td>\n",
       "      <td>2.4108</td>\n",
       "      <td>1.3213</td>\n",
       "      <td>74</td>\n",
       "      <td>579667</td>\n",
       "      <td>6644108708</td>\n",
       "    </tr>\n",
       "    <tr>\n",
       "      <th>3</th>\n",
       "      <td>874</td>\n",
       "      <td>2.0822</td>\n",
       "      <td>1.1973</td>\n",
       "      <td>320</td>\n",
       "      <td>143566</td>\n",
       "      <td>3229876087</td>\n",
       "    </tr>\n",
       "    <tr>\n",
       "      <th>4</th>\n",
       "      <td>1022</td>\n",
       "      <td>2.0160</td>\n",
       "      <td>1.1659</td>\n",
       "      <td>65</td>\n",
       "      <td>207993</td>\n",
       "      <td>3244363975</td>\n",
       "    </tr>\n",
       "  </tbody>\n",
       "</table>\n",
       "</div>"
      ],
      "text/plain": [
       "   row_id       x       y  accuracy    time    place_id\n",
       "0     112  2.2360  1.3655        66  623174  7663031065\n",
       "1     180  2.2003  1.2541        65  610195  2358558474\n",
       "2     367  2.4108  1.3213        74  579667  6644108708\n",
       "3     874  2.0822  1.1973       320  143566  3229876087\n",
       "4    1022  2.0160  1.1659        65  207993  3244363975"
      ]
     },
     "execution_count": 3,
     "metadata": {},
     "output_type": "execute_result"
    }
   ],
   "source": [
    "data.head()"
   ]
  },
  {
   "cell_type": "markdown",
   "metadata": {},
   "source": [
    "#### 1. extract time form 'time'\n",
    "#### 2. filter out place_id appearance that less than 3"
   ]
  },
  {
   "cell_type": "code",
   "execution_count": 4,
   "metadata": {},
   "outputs": [],
   "source": [
    "data['day'] = pd.to_datetime(data['time'], unit='s').dt.day\n",
    "data['hour'] = pd.to_datetime(data['time'], unit='s').dt.hour\n",
    "data['weekday']= pd.to_datetime(data['time'], unit='s').dt.weekday"
   ]
  },
  {
   "cell_type": "code",
   "execution_count": 5,
   "metadata": {},
   "outputs": [],
   "source": [
    "place_count = data.groupby('place_id')['row_id'].count()"
   ]
  },
  {
   "cell_type": "code",
   "execution_count": 6,
   "metadata": {
    "scrolled": false
   },
   "outputs": [],
   "source": [
    "# place_count[place_count>3].index.values"
   ]
  },
  {
   "cell_type": "code",
   "execution_count": 7,
   "metadata": {
    "scrolled": true
   },
   "outputs": [],
   "source": [
    "data_final = data[data['place_id'].isin(place_count[place_count>3].index.values)]"
   ]
  },
  {
   "cell_type": "code",
   "execution_count": 8,
   "metadata": {},
   "outputs": [
    {
     "data": {
      "text/plain": [
       "(80910, 9)"
      ]
     },
     "execution_count": 8,
     "metadata": {},
     "output_type": "execute_result"
    }
   ],
   "source": [
    "data_final.shape"
   ]
  },
  {
   "cell_type": "code",
   "execution_count": 9,
   "metadata": {},
   "outputs": [
    {
     "data": {
      "text/html": [
       "<div>\n",
       "<style scoped>\n",
       "    .dataframe tbody tr th:only-of-type {\n",
       "        vertical-align: middle;\n",
       "    }\n",
       "\n",
       "    .dataframe tbody tr th {\n",
       "        vertical-align: top;\n",
       "    }\n",
       "\n",
       "    .dataframe thead th {\n",
       "        text-align: right;\n",
       "    }\n",
       "</style>\n",
       "<table border=\"1\" class=\"dataframe\">\n",
       "  <thead>\n",
       "    <tr style=\"text-align: right;\">\n",
       "      <th></th>\n",
       "      <th>row_id</th>\n",
       "      <th>x</th>\n",
       "      <th>y</th>\n",
       "      <th>accuracy</th>\n",
       "      <th>time</th>\n",
       "      <th>place_id</th>\n",
       "      <th>day</th>\n",
       "      <th>hour</th>\n",
       "      <th>weekday</th>\n",
       "    </tr>\n",
       "  </thead>\n",
       "  <tbody>\n",
       "    <tr>\n",
       "      <th>0</th>\n",
       "      <td>112</td>\n",
       "      <td>2.2360</td>\n",
       "      <td>1.3655</td>\n",
       "      <td>66</td>\n",
       "      <td>623174</td>\n",
       "      <td>7663031065</td>\n",
       "      <td>8</td>\n",
       "      <td>5</td>\n",
       "      <td>3</td>\n",
       "    </tr>\n",
       "    <tr>\n",
       "      <th>2</th>\n",
       "      <td>367</td>\n",
       "      <td>2.4108</td>\n",
       "      <td>1.3213</td>\n",
       "      <td>74</td>\n",
       "      <td>579667</td>\n",
       "      <td>6644108708</td>\n",
       "      <td>7</td>\n",
       "      <td>17</td>\n",
       "      <td>2</td>\n",
       "    </tr>\n",
       "    <tr>\n",
       "      <th>3</th>\n",
       "      <td>874</td>\n",
       "      <td>2.0822</td>\n",
       "      <td>1.1973</td>\n",
       "      <td>320</td>\n",
       "      <td>143566</td>\n",
       "      <td>3229876087</td>\n",
       "      <td>2</td>\n",
       "      <td>15</td>\n",
       "      <td>4</td>\n",
       "    </tr>\n",
       "    <tr>\n",
       "      <th>4</th>\n",
       "      <td>1022</td>\n",
       "      <td>2.0160</td>\n",
       "      <td>1.1659</td>\n",
       "      <td>65</td>\n",
       "      <td>207993</td>\n",
       "      <td>3244363975</td>\n",
       "      <td>3</td>\n",
       "      <td>9</td>\n",
       "      <td>5</td>\n",
       "    </tr>\n",
       "    <tr>\n",
       "      <th>5</th>\n",
       "      <td>1045</td>\n",
       "      <td>2.3859</td>\n",
       "      <td>1.1660</td>\n",
       "      <td>498</td>\n",
       "      <td>503378</td>\n",
       "      <td>6438240873</td>\n",
       "      <td>6</td>\n",
       "      <td>19</td>\n",
       "      <td>1</td>\n",
       "    </tr>\n",
       "  </tbody>\n",
       "</table>\n",
       "</div>"
      ],
      "text/plain": [
       "   row_id       x       y  accuracy    time    place_id  day  hour  weekday\n",
       "0     112  2.2360  1.3655        66  623174  7663031065    8     5        3\n",
       "2     367  2.4108  1.3213        74  579667  6644108708    7    17        2\n",
       "3     874  2.0822  1.1973       320  143566  3229876087    2    15        4\n",
       "4    1022  2.0160  1.1659        65  207993  3244363975    3     9        5\n",
       "5    1045  2.3859  1.1660       498  503378  6438240873    6    19        1"
      ]
     },
     "execution_count": 9,
     "metadata": {},
     "output_type": "execute_result"
    }
   ],
   "source": [
    "data_final.head()"
   ]
  },
  {
   "cell_type": "markdown",
   "metadata": {},
   "source": [
    "### Prepare for modeling"
   ]
  },
  {
   "cell_type": "code",
   "execution_count": 23,
   "metadata": {},
   "outputs": [],
   "source": [
    "from sklearn.model_selection import train_test_split\n",
    "from sklearn.preprocessing import StandardScaler\n",
    "from sklearn.neighbors import KNeighborsClassifier\n",
    "from sklearn.model_selection import GridSearchCV"
   ]
  },
  {
   "cell_type": "markdown",
   "metadata": {},
   "source": [
    "1. choose columns and prepare train_test_split\n",
    "2. feature engineer : Standardize data\n",
    "3. introducing estimator : knn\n",
    "4. introducing gridsearch\n",
    "5. results checking"
   ]
  },
  {
   "cell_type": "code",
   "execution_count": 15,
   "metadata": {},
   "outputs": [],
   "source": [
    "X = data_final[['x','y','accuracy','day','hour','weekday']]\n",
    "\n",
    "y = data_final['place_id']\n",
    "\n",
    "x_train, x_test, y_train, y_test = train_test_split(X,y,random_state=17)"
   ]
  },
  {
   "cell_type": "code",
   "execution_count": 16,
   "metadata": {},
   "outputs": [],
   "source": [
    "transfer = StandardScaler()\n",
    "\n",
    "x_train = transfer.fit_transform(x_train)\n",
    "\n",
    "x_test = transfer.transform(x_test)"
   ]
  },
  {
   "cell_type": "code",
   "execution_count": 41,
   "metadata": {},
   "outputs": [],
   "source": [
    "knn = KNeighborsClassifier()"
   ]
  },
  {
   "cell_type": "code",
   "execution_count": 25,
   "metadata": {},
   "outputs": [
    {
     "name": "stderr",
     "output_type": "stream",
     "text": [
      "/anaconda3/lib/python3.7/site-packages/sklearn/model_selection/_split.py:652: Warning: The least populated class in y has only 1 members, which is too few. The minimum number of members in any class cannot be less than n_splits=10.\n",
      "  % (min_groups, self.n_splits)), Warning)\n",
      "/anaconda3/lib/python3.7/site-packages/sklearn/model_selection/_search.py:841: DeprecationWarning: The default of the `iid` parameter will change from True to False in version 0.22 and will be removed in 0.24. This will change numeric results when test-set sizes are unequal.\n",
      "  DeprecationWarning)\n"
     ]
    },
    {
     "data": {
      "text/plain": [
       "GridSearchCV(cv=10, error_score='raise-deprecating',\n",
       "       estimator=KNeighborsClassifier(algorithm='auto', leaf_size=30, metric='minkowski',\n",
       "           metric_params=None, n_jobs=None, n_neighbors=5, p=2,\n",
       "           weights='uniform'),\n",
       "       fit_params=None, iid='warn', n_jobs=None,\n",
       "       param_grid={'n_neighbors': [3, 5, 7]}, pre_dispatch='2*n_jobs',\n",
       "       refit=True, return_train_score='warn', scoring=None, verbose=0)"
      ]
     },
     "execution_count": 25,
     "metadata": {},
     "output_type": "execute_result"
    }
   ],
   "source": [
    "param_dict = {'n_neighbors':[3,5,7]}\n",
    "estimator = GridSearchCV(knn, param_grid=param_dict, cv=10)\n",
    "estimator.fit(x_train, y_train)"
   ]
  },
  {
   "cell_type": "markdown",
   "metadata": {},
   "source": [
    "above parameters took one minute to calculate"
   ]
  },
  {
   "cell_type": "code",
   "execution_count": 39,
   "metadata": {},
   "outputs": [
    {
     "name": "stdout",
     "output_type": "stream",
     "text": [
      "y_predict:\n",
      " [1658077953 5991509451 2998156180 ... 3981920612 9474162554 1314542379]\n",
      "true_values VS predict_values:\n",
      " False    12857\n",
      "True      7371\n",
      "Name: place_id, dtype: int64\n",
      "true_values VS predict_values(percentage):\n",
      " False    0.635604\n",
      "True     0.364396\n",
      "Name: place_id, dtype: float64\n",
      "accuracy: \n",
      " 0.3643958868894602\n",
      "best estimator: \n",
      " KNeighborsClassifier(algorithm='auto', leaf_size=30, metric='minkowski',\n",
      "           metric_params=None, n_jobs=None, n_neighbors=7, p=2,\n",
      "           weights='uniform')\n",
      "best score: \n",
      " 0.35997495138591346\n",
      "best param: \n",
      " {'n_neighbors': 7}\n",
      "cv_results: \n",
      " {'mean_fit_time': array([0.03451529, 0.03302484, 0.03310535]), 'std_fit_time': array([0.00264123, 0.00191954, 0.00238236]), 'mean_score_time': array([0.17495518, 0.18964679, 0.20968122]), 'std_score_time': array([0.00978546, 0.01134367, 0.02261726]), 'param_n_neighbors': masked_array(data=[3, 5, 7],\n",
      "             mask=[False, False, False],\n",
      "       fill_value='?',\n",
      "            dtype=object), 'params': [{'n_neighbors': 3}, {'n_neighbors': 5}, {'n_neighbors': 7}], 'split0_test_score': array([0.324552  , 0.34155307, 0.33879614]), 'split1_test_score': array([0.32234092, 0.3358105 , 0.33642979]), 'split2_test_score': array([0.32961333, 0.34407419, 0.34690349]), 'split3_test_score': array([0.337983  , 0.35850569, 0.35722302]), 'split4_test_score': array([0.34986816, 0.36404087, 0.3586025 ]), 'split5_test_score': array([0.35728677, 0.36736064, 0.3707186 ]), 'split6_test_score': array([0.35359022, 0.37039552, 0.37446953]), 'split7_test_score': array([0.35411643, 0.37151223, 0.37065105]), 'split8_test_score': array([0.36550881, 0.3786001 , 0.37493454]), 'split9_test_score': array([0.36049601, 0.37431355, 0.37803366]), 'mean_test_score': array([0.34483043, 0.35994199, 0.35997495]), 'std_test_score': array([0.01496132, 0.01440678, 0.01484062]), 'rank_test_score': array([3, 2, 1], dtype=int32), 'split0_train_score': array([0.6049157 , 0.54261075, 0.50482891]), 'split1_train_score': array([0.60457739, 0.54233443, 0.50323663]), 'split2_train_score': array([0.60401325, 0.54263623, 0.50362666]), 'split3_train_score': array([0.6036918 , 0.53955368, 0.5031316 ]), 'split4_train_score': array([0.60235471, 0.54085033, 0.50254513]), 'split5_train_score': array([0.60209041, 0.53992618, 0.5031612 ]), 'split6_train_score': array([0.60309175, 0.53944991, 0.50081218]), 'split7_train_score': array([0.60115533, 0.53996283, 0.50229609]), 'split8_train_score': array([0.60135024, 0.54046185, 0.50108274]), 'split9_train_score': array([0.60143176, 0.53798354, 0.50024529]), 'mean_train_score': array([0.60286724, 0.54057697, 0.50249664]), 'std_train_score': array([0.00131617, 0.00146279, 0.00134374])}\n"
     ]
    }
   ],
   "source": [
    "y_predict = estimator.predict(x_test)\n",
    "print('y_predict:\\n',y_predict)\n",
    "print('true_values VS predict_values:\\n', (y_test==y_predict).value_counts())\n",
    "print('true_values VS predict_values(percentage):\\n',(y_test==y_predict).value_counts(normalize=True))\n",
    "\n",
    "score = estimator.score(x_test, y_test)\n",
    "print('accuracy: \\n', score)\n",
    "\n",
    "print('best estimator: \\n', estimator.best_estimator_)\n",
    "\n",
    "print('best score: \\n', estimator.best_score_)\n",
    "\n",
    "print('best param: \\n', estimator.best_params_)\n",
    "\n",
    "print('cv_results: \\n', estimator.cv_results_)"
   ]
  },
  {
   "cell_type": "code",
   "execution_count": 42,
   "metadata": {
    "scrolled": true
   },
   "outputs": [
    {
     "name": "stderr",
     "output_type": "stream",
     "text": [
      "/anaconda3/lib/python3.7/site-packages/sklearn/model_selection/_split.py:652: Warning: The least populated class in y has only 1 members, which is too few. The minimum number of members in any class cannot be less than n_splits=10.\n",
      "  % (min_groups, self.n_splits)), Warning)\n",
      "/anaconda3/lib/python3.7/site-packages/sklearn/model_selection/_search.py:841: DeprecationWarning: The default of the `iid` parameter will change from True to False in version 0.22 and will be removed in 0.24. This will change numeric results when test-set sizes are unequal.\n",
      "  DeprecationWarning)\n"
     ]
    },
    {
     "data": {
      "text/plain": [
       "GridSearchCV(cv=10, error_score='raise-deprecating',\n",
       "       estimator=KNeighborsClassifier(algorithm='auto', leaf_size=30, metric='minkowski',\n",
       "           metric_params=None, n_jobs=None, n_neighbors=5, p=2,\n",
       "           weights='uniform'),\n",
       "       fit_params=None, iid='warn', n_jobs=None,\n",
       "       param_grid={'n_neighbors': [7, 9, 11]}, pre_dispatch='2*n_jobs',\n",
       "       refit=True, return_train_score='warn', scoring=None, verbose=0)"
      ]
     },
     "execution_count": 42,
     "metadata": {},
     "output_type": "execute_result"
    }
   ],
   "source": [
    "param_dict = {'n_neighbors':[7,9,11]}\n",
    "estimator = GridSearchCV(knn, param_grid=param_dict, cv=10)\n",
    "estimator.fit(x_train, y_train)"
   ]
  },
  {
   "cell_type": "markdown",
   "metadata": {},
   "source": [
    "took one minute to calculate"
   ]
  },
  {
   "cell_type": "code",
   "execution_count": 43,
   "metadata": {},
   "outputs": [
    {
     "name": "stdout",
     "output_type": "stream",
     "text": [
      "y_predict:\n",
      " [1658077953 5991509451 2998156180 ... 3981920612 9474162554 1314542379]\n",
      "true_values VS predict_values:\n",
      " False    12857\n",
      "True      7371\n",
      "Name: place_id, dtype: int64\n",
      "true_values VS predict_values(percentage):\n",
      " False    0.635604\n",
      "True     0.364396\n",
      "Name: place_id, dtype: float64\n",
      "accuracy: \n",
      " 0.3643958868894602\n",
      "best estimator: \n",
      " KNeighborsClassifier(algorithm='auto', leaf_size=30, metric='minkowski',\n",
      "           metric_params=None, n_jobs=None, n_neighbors=7, p=2,\n",
      "           weights='uniform')\n",
      "best score: \n",
      " 0.35997495138591346\n",
      "best param: \n",
      " {'n_neighbors': 7}\n",
      "cv_results: \n",
      " {'mean_fit_time': array([0.036268  , 0.03240385, 0.03279438]), 'std_fit_time': array([0.00443847, 0.00086346, 0.00106345]), 'mean_score_time': array([0.20882046, 0.20893111, 0.21957867]), 'std_score_time': array([0.02220518, 0.00973246, 0.00983256]), 'param_n_neighbors': masked_array(data=[7, 9, 11],\n",
      "             mask=[False, False, False],\n",
      "       fill_value='?',\n",
      "            dtype=object), 'params': [{'n_neighbors': 7}, {'n_neighbors': 9}, {'n_neighbors': 11}], 'split0_test_score': array([0.33879614, 0.337724  , 0.3299127 ]), 'split1_test_score': array([0.33642979, 0.32915312, 0.32404397]), 'split2_test_score': array([0.34690349, 0.34093052, 0.33511474]), 'split3_test_score': array([0.35722302, 0.35497835, 0.35129068]), 'split4_test_score': array([0.3586025 , 0.35382334, 0.35250494]), 'split5_test_score': array([0.3707186 , 0.36517797, 0.35946944]), 'split6_test_score': array([0.37446953, 0.36784926, 0.36207775]), 'split7_test_score': array([0.37065105, 0.36841199, 0.35549432]), 'split8_test_score': array([0.37493454, 0.36934893, 0.36638157]), 'split9_test_score': array([0.37803366, 0.36882197, 0.36527901]), 'mean_test_score': array([0.35997495, 0.35496523, 0.34949408]), 'std_test_score': array([0.01484062, 0.01430835, 0.01455335]), 'rank_test_score': array([1, 2, 3], dtype=int32), 'split0_train_score': array([0.50482891, 0.47674182, 0.45480398]), 'split1_train_score': array([0.50323663, 0.47793372, 0.45683566]), 'split2_train_score': array([0.50362666, 0.47628866, 0.45504418]), 'split3_train_score': array([0.5031316 , 0.4747176 , 0.45462393]), 'split4_train_score': array([0.50254513, 0.47579375, 0.4537115 ]), 'split5_train_score': array([0.5031612 , 0.47333991, 0.45311187]), 'split6_train_score': array([0.50081218, 0.47303389, 0.45230056]), 'split7_train_score': array([0.50229609, 0.47403236, 0.45183687]), 'split8_train_score': array([0.50108274, 0.47409605, 0.45184066]), 'split9_train_score': array([0.50024529, 0.47326344, 0.4512964 ]), 'mean_train_score': array([0.50249664, 0.47492412, 0.45354056]), 'std_train_score': array([0.00134374, 0.00159198, 0.00168723])}\n"
     ]
    }
   ],
   "source": [
    "y_predict = estimator.predict(x_test)\n",
    "print('y_predict:\\n',y_predict)\n",
    "print('true_values VS predict_values:\\n', (y_test==y_predict).value_counts())\n",
    "print('true_values VS predict_values(percentage):\\n',(y_test==y_predict).value_counts(normalize=True))\n",
    "\n",
    "score = estimator.score(x_test, y_test)\n",
    "print('accuracy: \\n', score)\n",
    "\n",
    "print('best estimator: \\n', estimator.best_estimator_)\n",
    "\n",
    "print('best score: \\n', estimator.best_score_)\n",
    "\n",
    "print('best param: \\n', estimator.best_params_)\n",
    "\n",
    "print('cv_results: \\n', estimator.cv_results_)"
   ]
  },
  {
   "cell_type": "code",
   "execution_count": 44,
   "metadata": {
    "scrolled": true
   },
   "outputs": [
    {
     "name": "stderr",
     "output_type": "stream",
     "text": [
      "/anaconda3/lib/python3.7/site-packages/sklearn/model_selection/_split.py:652: Warning: The least populated class in y has only 1 members, which is too few. The minimum number of members in any class cannot be less than n_splits=10.\n",
      "  % (min_groups, self.n_splits)), Warning)\n",
      "/anaconda3/lib/python3.7/site-packages/sklearn/model_selection/_search.py:841: DeprecationWarning: The default of the `iid` parameter will change from True to False in version 0.22 and will be removed in 0.24. This will change numeric results when test-set sizes are unequal.\n",
      "  DeprecationWarning)\n"
     ]
    },
    {
     "data": {
      "text/plain": [
       "GridSearchCV(cv=10, error_score='raise-deprecating',\n",
       "       estimator=KNeighborsClassifier(algorithm='auto', leaf_size=30, metric='minkowski',\n",
       "           metric_params=None, n_jobs=None, n_neighbors=5, p=2,\n",
       "           weights='uniform'),\n",
       "       fit_params=None, iid='warn', n_jobs=None,\n",
       "       param_grid={'n_neighbors': [6, 7, 8, 10, 20, 30]},\n",
       "       pre_dispatch='2*n_jobs', refit=True, return_train_score='warn',\n",
       "       scoring=None, verbose=0)"
      ]
     },
     "execution_count": 44,
     "metadata": {},
     "output_type": "execute_result"
    }
   ],
   "source": [
    "param_dict = {'n_neighbors':[6,7,8,10,20,30]}\n",
    "estimator = GridSearchCV(knn, param_grid=param_dict, cv=10)\n",
    "estimator.fit(x_train, y_train)"
   ]
  },
  {
   "cell_type": "markdown",
   "metadata": {},
   "source": [
    "took 2-3 minutes to calculate"
   ]
  },
  {
   "cell_type": "code",
   "execution_count": 45,
   "metadata": {},
   "outputs": [
    {
     "name": "stdout",
     "output_type": "stream",
     "text": [
      "y_predict:\n",
      " [1168869217 5991509451 2998156180 ... 3981920612 9474162554 1314542379]\n",
      "true_values VS predict_values:\n",
      " False    12880\n",
      "True      7348\n",
      "Name: place_id, dtype: int64\n",
      "true_values VS predict_values(percentage):\n",
      " False    0.636741\n",
      "True     0.363259\n",
      "Name: place_id, dtype: float64\n",
      "accuracy: \n",
      " 0.36325884912003165\n",
      "best estimator: \n",
      " KNeighborsClassifier(algorithm='auto', leaf_size=30, metric='minkowski',\n",
      "           metric_params=None, n_jobs=None, n_neighbors=6, p=2,\n",
      "           weights='uniform')\n",
      "best score: \n",
      " 0.36017270360238623\n",
      "best param: \n",
      " {'n_neighbors': 6}\n",
      "cv_results: \n",
      " {'mean_fit_time': array([0.03402042, 0.03296535, 0.03389199, 0.03262513, 0.03331811,\n",
      "       0.03493764]), 'std_fit_time': array([0.00119549, 0.00100204, 0.0035345 , 0.00122208, 0.00180442,\n",
      "       0.00174567]), 'mean_score_time': array([0.19771111, 0.19993072, 0.20526772, 0.21453116, 0.25970049,\n",
      "       0.29864771]), 'std_score_time': array([0.01298284, 0.00824809, 0.00976168, 0.01133703, 0.01459575,\n",
      "       0.01544411]), 'param_n_neighbors': masked_array(data=[6, 7, 8, 10, 20, 30],\n",
      "             mask=[False, False, False, False, False, False],\n",
      "       fill_value='?',\n",
      "            dtype=object), 'params': [{'n_neighbors': 6}, {'n_neighbors': 7}, {'n_neighbors': 8}, {'n_neighbors': 10}, {'n_neighbors': 20}, {'n_neighbors': 30}], 'split0_test_score': array([0.34017461, 0.33879614, 0.33803033, 0.33404809, 0.30969521,\n",
      "       0.29805483]), 'split1_test_score': array([0.33565567, 0.33642979, 0.33255922, 0.32605667, 0.30469113,\n",
      "       0.29091191]), 'split2_test_score': array([0.34564602, 0.34690349, 0.34234517, 0.33920151, 0.31248035,\n",
      "       0.29707639]), 'split3_test_score': array([0.35706269, 0.35722302, 0.35738336, 0.35064935, 0.33301267,\n",
      "       0.31489498]), 'split4_test_score': array([0.3595913 , 0.3586025 , 0.3594265 , 0.35085695, 0.3274555 ,\n",
      "       0.31575478]), 'split5_test_score': array([0.36736064, 0.3707186 , 0.37189389, 0.36165212, 0.33948959,\n",
      "       0.31900604]), 'split6_test_score': array([0.37413003, 0.37446953, 0.37328128, 0.36479375, 0.33729418,\n",
      "       0.32235614]), 'split7_test_score': array([0.37254564, 0.37065105, 0.36823975, 0.3641061 , 0.3341371 ,\n",
      "       0.32139166]), 'split8_test_score': array([0.37999651, 0.37493454, 0.37336359, 0.36515971, 0.34595916,\n",
      "       0.3278059 ]), 'split9_test_score': array([0.37679362, 0.37803366, 0.37254207, 0.36988485, 0.34827281,\n",
      "       0.32595217]), 'mean_test_score': array([0.3601727 , 0.35997495, 0.35821166, 0.35196599, 0.32858179,\n",
      "       0.31274513]), 'std_test_score': array([0.01521814, 0.01484062, 0.01520843, 0.0144557 , 0.01466408,\n",
      "       0.01259712]), 'rank_test_score': array([1, 2, 3, 4, 5, 6], dtype=int32), 'split0_train_score': array([0.52061751, 0.50482891, 0.48946503, 0.46542204, 0.39678319,\n",
      "       0.36280538]), 'split1_train_score': array([0.52097818, 0.50323663, 0.49001346, 0.46653634, 0.39857625,\n",
      "       0.36390462]), 'split2_train_score': array([0.52002946, 0.50362666, 0.48976436, 0.46614507, 0.3958947 ,\n",
      "       0.36334683]), 'split3_train_score': array([0.51887226, 0.5031316 , 0.48689503, 0.4644871 , 0.39482046,\n",
      "       0.36293507]), 'split4_train_score': array([0.52028784, 0.50254513, 0.48791519, 0.46374556, 0.3957044 ,\n",
      "       0.36188523]), 'split5_train_score': array([0.51935095, 0.5031612 , 0.48742828, 0.46416694, 0.39443774,\n",
      "       0.35918942]), 'split6_train_score': array([0.51917286, 0.50081218, 0.48601048, 0.4622292 , 0.39409757,\n",
      "       0.35974886]), 'split7_train_score': array([0.51964429, 0.50229609, 0.48724397, 0.46074787, 0.39292222,\n",
      "       0.36130549]), 'split8_train_score': array([0.51818827, 0.50108274, 0.48670682, 0.4626499 , 0.39311776,\n",
      "       0.36008953]), 'split9_train_score': array([0.51696132, 0.50024529, 0.48652725, 0.46147137, 0.39355343,\n",
      "       0.36048476]), 'mean_train_score': array([0.51941029, 0.50249664, 0.48779699, 0.46376014, 0.39499077,\n",
      "       0.36156952]), 'std_train_score': array([0.0011386 , 0.00134374, 0.00137213, 0.00186386, 0.00168465,\n",
      "       0.00156588])}\n"
     ]
    }
   ],
   "source": [
    "y_predict = estimator.predict(x_test)\n",
    "print('y_predict:\\n',y_predict)\n",
    "print('true_values VS predict_values:\\n', (y_test==y_predict).value_counts())\n",
    "print('true_values VS predict_values(percentage):\\n',(y_test==y_predict).value_counts(normalize=True))\n",
    "\n",
    "score = estimator.score(x_test, y_test)\n",
    "print('accuracy: \\n', score)\n",
    "\n",
    "print('best estimator: \\n', estimator.best_estimator_)\n",
    "\n",
    "print('best score: \\n', estimator.best_score_)\n",
    "\n",
    "print('best param: \\n', estimator.best_params_)\n",
    "\n",
    "print('cv_results: \\n', estimator.cv_results_)"
   ]
  },
  {
   "cell_type": "code",
   "execution_count": null,
   "metadata": {},
   "outputs": [],
   "source": []
  }
 ],
 "metadata": {
  "kernelspec": {
   "display_name": "Python 3",
   "language": "python",
   "name": "python3"
  },
  "language_info": {
   "codemirror_mode": {
    "name": "ipython",
    "version": 3
   },
   "file_extension": ".py",
   "mimetype": "text/x-python",
   "name": "python",
   "nbconvert_exporter": "python",
   "pygments_lexer": "ipython3",
   "version": "3.7.3"
  }
 },
 "nbformat": 4,
 "nbformat_minor": 2
}
